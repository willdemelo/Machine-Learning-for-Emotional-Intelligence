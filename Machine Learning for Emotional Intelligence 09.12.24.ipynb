{
 "cells": [
  {
   "cell_type": "markdown",
   "id": "38e3a87f",
   "metadata": {},
   "source": [
    "# Machine Learning for Emotional Intelligence\n",
    "## A Combined Multilayer Perceptron/Text Classifier for Predicting Emotion\n",
    "I wanted to create a proof-of-concept for a mental health tool with an intuitive design. It takes two things from you - a photo and a caption - and predicts what emotion you're experiencing. I designed it as a tool to promote emotional intelligence and, if it were integrated into a mental health app or website's services, suggest resources based on your emotional state.\n",
    "\n",
    "It works by using a multilayer perceptron (MLP) to predict an emotion from the image, and a text classifier to predict an emotion from the caption. Then, a soft voting ensemble combines those predictions and creates a new, final prediction, with around 52% final accuracy. Plans to improve this model in the future include creating ways to weigh emotions the models are poor at predicting, and findiing higher quality data for training the models.\n",
    "\n",
    "Please look below for my code."
   ]
  },
  {
   "cell_type": "code",
   "execution_count": 1,
   "id": "a78dcf42",
   "metadata": {},
   "outputs": [],
   "source": [
    "import os\n",
    "os.environ['TF_CPP_MIN_LOG_LEVEL'] = '3'\n",
    "from absl import logging\n",
    "logging.set_verbosity(logging.ERROR)"
   ]
  },
  {
   "cell_type": "code",
   "execution_count": 2,
   "id": "c956ff29",
   "metadata": {
    "slideshow": {
     "slide_type": "skip"
    }
   },
   "outputs": [],
   "source": [
    "#Displays images\n",
    "from skimage.io import imread\n",
    "import matplotlib.pyplot as plt\n",
    "#Backbone of data organization\n",
    "import numpy as np\n",
    "import pandas as pd\n",
    "#Preprocesses text data \n",
    "import re\n",
    "import string\n",
    "#Needed to unzip image data\n",
    "import zipfile\n",
    "#Machine learning tools\n",
    "import tensorflow as tf\n",
    "from tensorflow.keras import (\n",
    "    layers,\n",
    "    models,\n",
    "    datasets,\n",
    "    callbacks,\n",
    "    losses,\n",
    "    optimizers,\n",
    "    metrics,\n",
    "    utils,\n",
    ")\n",
    "from tensorflow.keras.callbacks import Callback\n",
    "from tensorflow.keras.models import Sequential\n",
    "from tensorflow.keras.models import load_model\n",
    "from tensorflow.keras.layers import Dense\n",
    "from tensorflow.keras.layers import LeakyReLU\n",
    "from tensorflow.keras.layers import BatchNormalization\n",
    "from tensorflow.keras.regularizers import l2\n",
    "from sklearn.model_selection import train_test_split as tts\n",
    "from sklearn.feature_extraction.text import TfidfVectorizer\n",
    "#Helps keep track of training times\n",
    "import time\n",
    "#Counts instances within a list\n",
    "from collections import Counter\n",
    "#For basic visualizations\n",
    "import seaborn as sns"
   ]
  },
  {
   "cell_type": "markdown",
   "id": "9fb7bc31",
   "metadata": {
    "slideshow": {
     "slide_type": "skip"
    }
   },
   "source": [
    "## The Multilayer Perceptron\n",
    "\n",
    "The image data was sourced from this Kaggle dataset: https://www.kaggle.com/datasets/praveengovi/emotions-dataset-for-nlp\n",
    "\n",
    "We start by creating a list with the names of all the images in the 'beta_img' folder. Then, the list is alphabetically sorted. All of the images have corresponding prefixes in their titles denoting which emotion they are meant to represent(ex. a_t for anger, d_t for disgust) so doing this arranges the image titles in the following order - anger, disgust, fear, happiness, neutrality, sadness, surpris.\n",
    "\n",
    "We utilize 547 images for each emotion, as there were only 547 images that repressented disgust, and I thought it best to have an equal amount of images for each emotion. In total, there were 3,875 images used for this model."
   ]
  },
  {
   "cell_type": "code",
   "execution_count": 3,
   "id": "4334e0d8",
   "metadata": {
    "slideshow": {
     "slide_type": "skip"
    }
   },
   "outputs": [
    {
     "data": {
      "text/plain": [
       "'a_t0.jpg'"
      ]
     },
     "execution_count": 3,
     "metadata": {},
     "output_type": "execute_result"
    }
   ],
   "source": [
    "allimg = filter(lambda x: \".jpg\" in x, os.listdir(\"beta_img\"))\n",
    "allimg = list(allimg)\n",
    "allimg.sort()\n",
    "allimg[0]"
   ]
  },
  {
   "cell_type": "markdown",
   "id": "068f28ba",
   "metadata": {},
   "source": [
    "After constructing a list with all the names of the images, we create a function which references the actual images within 'beta_img'. Now we have a list with all of the images we need for training/testing."
   ]
  },
  {
   "cell_type": "code",
   "execution_count": 4,
   "id": "af260522",
   "metadata": {
    "slideshow": {
     "slide_type": "skip"
    }
   },
   "outputs": [
    {
     "data": {
      "image/png": "[encoded data removed]",
      "text/plain": [
       "<Figure size 640x480 with 1 Axes>"
      ]
     },
     "metadata": {},
     "output_type": "display_data"
    }
   ],
   "source": [
    "#An example of an image with an angry expression.\n",
    "allimg = [imread(\"./beta_img/\" + x) for x in list(allimg)]\n",
    "plt.imshow(allimg[0], cmap = \"gray\")\n",
    "plt.show()"
   ]
  },
  {
   "cell_type": "markdown",
   "id": "3f0a9b5b",
   "metadata": {},
   "source": [
    "We then convert our list of images into a numpy array with one extra axis, which will be needed for input into our multilayer perceptron."
   ]
  },
  {
   "cell_type": "code",
   "execution_count": 5,
   "id": "be22e86c",
   "metadata": {
    "slideshow": {
     "slide_type": "skip"
    }
   },
   "outputs": [
    {
     "data": {
      "text/plain": [
       "(3829, 48, 48, 1)"
      ]
     },
     "execution_count": 5,
     "metadata": {},
     "output_type": "execute_result"
    }
   ],
   "source": [
    "allimg = np.array(allimg)\n",
    "allimg = allimg[:,:,:,np.newaxis]\n",
    "allimg.shape"
   ]
  },
  {
   "cell_type": "markdown",
   "id": "3e8a7021",
   "metadata": {},
   "source": [
    "Knowing how many of each kind of image is within our model and how they are ordered, creating a dependent variable for our model is as easy as creating a list and adding values that would correspond to each of the emotions in the same order that our list of images was created, and then turning the result into a numpy array."
   ]
  },
  {
   "cell_type": "code",
   "execution_count": 6,
   "id": "5c5d1407",
   "metadata": {
    "slideshow": {
     "slide_type": "skip"
    }
   },
   "outputs": [],
   "source": [
    "#Creates emotional correspondence for the images, for the 3829 images we have to train the model with.\n",
    "#As this is the order that the images were originally loaded in, the data matches up.\n",
    "#0 will correspond to anger, 1 to disgust, 2 to fear, and so on.\n",
    "expr = []\n",
    "for i in range (0,7):\n",
    "    expr.append([i]*547)\n",
    "expr = sum(expr, [])\n",
    "#Converts the expression data to numpy array.\n",
    "expr = np.array(expr)"
   ]
  },
  {
   "cell_type": "markdown",
   "id": "14138254",
   "metadata": {},
   "source": [
    "Splitting the data, we use a 4:1 ratio for testing and training, respectively. It is important to note the 'random_state' value of 1, because when the data for the text classifier data is similarly split, it must be with the same random_state value to ensure it is split in the exact same way. This is because the soft voting ensemble at the end needs image and text data that correspond to the same emotions; if it uses mismatched data, it will not work."
   ]
  },
  {
   "cell_type": "code",
   "execution_count": 7,
   "id": "067c4fc0",
   "metadata": {
    "slideshow": {
     "slide_type": "skip"
    }
   },
   "outputs": [],
   "source": [
    "#Splitting the data into training/testing sets.\n",
    "img_train, img_test, expr_train, expr_test = tts(allimg, expr, stratify = expr, test_size = 0.2, random_state = 1, shuffle = True)"
   ]
  },
  {
   "cell_type": "markdown",
   "id": "29db1f04",
   "metadata": {},
   "source": [
    "By taking our image data and resizing it in this way, we make it so that each of the values within the matrices that make up each of the images is between 1 and 0. This normalization benefits the multilayer perceptron by making it faster, more stable, etc."
   ]
  },
  {
   "cell_type": "code",
   "execution_count": 8,
   "id": "cfdcb630",
   "metadata": {
    "slideshow": {
     "slide_type": "skip"
    }
   },
   "outputs": [],
   "source": [
    "#Resizes the images for preprocessing.\n",
    "my_resizer = lambda x: (x - np.min(x)) / (np.max(x) - np.min(x))\n",
    "img_train = my_resizer(img_train.astype(\"float32\"))\n",
    "img_test = my_resizer(img_test.astype(\"float32\"))"
   ]
  },
  {
   "cell_type": "markdown",
   "id": "e9989bde",
   "metadata": {},
   "source": [
    "We also take our dependent variable array and change it into a format that can be used by our multilayer perceptron's output layer."
   ]
  },
  {
   "cell_type": "code",
   "execution_count": 9,
   "id": "ea740cc9",
   "metadata": {
    "slideshow": {
     "slide_type": "skip"
    }
   },
   "outputs": [],
   "source": [
    "#Puts the expressions into an output form suitable to the model.\n",
    "expr_train = utils.to_categorical(expr_train, 7)\n",
    "expr_test = utils.to_categorical(expr_test, 7)"
   ]
  },
  {
   "cell_type": "code",
   "execution_count": 10,
   "id": "b767fc83",
   "metadata": {
    "slideshow": {
     "slide_type": "skip"
    }
   },
   "outputs": [
    {
     "data": {
      "text/plain": [
       "array([[0., 0., 0., 1., 0., 0., 0.],\n",
       "       [0., 0., 0., 0., 1., 0., 0.],\n",
       "       [0., 0., 1., 0., 0., 0., 0.],\n",
       "       [0., 0., 0., 0., 0., 0., 1.],\n",
       "       [0., 0., 1., 0., 0., 0., 0.]])"
      ]
     },
     "execution_count": 10,
     "metadata": {},
     "output_type": "execute_result"
    }
   ],
   "source": [
    "expr_train[0:5]"
   ]
  },
  {
   "cell_type": "markdown",
   "id": "b26e8fcc",
   "metadata": {},
   "source": [
    "The model follows a four-step process:\n",
    "1. Convolute the image data to identify important patterns in images.\n",
    "2. MaxPool the data to identify prominent features in the images.\n",
    "3. Drop 20% of the convolution filters to prevent overfitting.\n",
    "4. Normalize output to keep the model stable.\n",
    "\n",
    "This process repeats four times, with varying convolutions. At the end, the data is flattened and put into the output layer, which produces the probabilities for each image that they correspond to each of the seven emotions we are testing for."
   ]
  },
  {
   "cell_type": "code",
   "execution_count": 11,
   "id": "3a033208",
   "metadata": {
    "slideshow": {
     "slide_type": "slide"
    }
   },
   "outputs": [
    {
     "data": {
      "text/html": [
       "<pre style=\"white-space:pre;overflow-x:auto;line-height:normal;font-family:Menlo,'DejaVu Sans Mono',consolas,'Courier New',monospace\"><span style=\"font-weight: bold\">Model: \"functional\"</span>\n",
       "</pre>\n"
      ],
      "text/plain": [
       "\u001b[1mModel: \"functional\"\u001b[0m\n"
      ]
     },
     "metadata": {},
     "output_type": "display_data"
    },
    {
     "data": {
      "text/html": [
       "<pre style=\"white-space:pre;overflow-x:auto;line-height:normal;font-family:Menlo,'DejaVu Sans Mono',consolas,'Courier New',monospace\">┏━━━━━━━━━━━━━━━━━━━━━━━━━━━━━━━━━┳━━━━━━━━━━━━━━━━━━━━━━━━┳━━━━━━━━━━━━━━━┓\n",
       "┃<span style=\"font-weight: bold\"> Layer (type)                    </span>┃<span style=\"font-weight: bold\"> Output Shape           </span>┃<span style=\"font-weight: bold\">       Param # </span>┃\n",
       "┡━━━━━━━━━━━━━━━━━━━━━━━━━━━━━━━━━╇━━━━━━━━━━━━━━━━━━━━━━━━╇━━━━━━━━━━━━━━━┩\n",
       "│ input_layer (<span style=\"color: #0087ff; text-decoration-color: #0087ff\">InputLayer</span>)        │ (<span style=\"color: #00d7ff; text-decoration-color: #00d7ff\">None</span>, <span style=\"color: #00af00; text-decoration-color: #00af00\">48</span>, <span style=\"color: #00af00; text-decoration-color: #00af00\">48</span>, <span style=\"color: #00af00; text-decoration-color: #00af00\">1</span>)      │             <span style=\"color: #00af00; text-decoration-color: #00af00\">0</span> │\n",
       "├─────────────────────────────────┼────────────────────────┼───────────────┤\n",
       "│ conv2d (<span style=\"color: #0087ff; text-decoration-color: #0087ff\">Conv2D</span>)                 │ (<span style=\"color: #00d7ff; text-decoration-color: #00d7ff\">None</span>, <span style=\"color: #00af00; text-decoration-color: #00af00\">48</span>, <span style=\"color: #00af00; text-decoration-color: #00af00\">48</span>, <span style=\"color: #00af00; text-decoration-color: #00af00\">16</span>)     │           <span style=\"color: #00af00; text-decoration-color: #00af00\">160</span> │\n",
       "├─────────────────────────────────┼────────────────────────┼───────────────┤\n",
       "│ max_pooling2d (<span style=\"color: #0087ff; text-decoration-color: #0087ff\">MaxPooling2D</span>)    │ (<span style=\"color: #00d7ff; text-decoration-color: #00d7ff\">None</span>, <span style=\"color: #00af00; text-decoration-color: #00af00\">24</span>, <span style=\"color: #00af00; text-decoration-color: #00af00\">24</span>, <span style=\"color: #00af00; text-decoration-color: #00af00\">16</span>)     │             <span style=\"color: #00af00; text-decoration-color: #00af00\">0</span> │\n",
       "├─────────────────────────────────┼────────────────────────┼───────────────┤\n",
       "│ dropout (<span style=\"color: #0087ff; text-decoration-color: #0087ff\">Dropout</span>)               │ (<span style=\"color: #00d7ff; text-decoration-color: #00d7ff\">None</span>, <span style=\"color: #00af00; text-decoration-color: #00af00\">24</span>, <span style=\"color: #00af00; text-decoration-color: #00af00\">24</span>, <span style=\"color: #00af00; text-decoration-color: #00af00\">16</span>)     │             <span style=\"color: #00af00; text-decoration-color: #00af00\">0</span> │\n",
       "├─────────────────────────────────┼────────────────────────┼───────────────┤\n",
       "│ batch_normalization             │ (<span style=\"color: #00d7ff; text-decoration-color: #00d7ff\">None</span>, <span style=\"color: #00af00; text-decoration-color: #00af00\">24</span>, <span style=\"color: #00af00; text-decoration-color: #00af00\">24</span>, <span style=\"color: #00af00; text-decoration-color: #00af00\">16</span>)     │            <span style=\"color: #00af00; text-decoration-color: #00af00\">64</span> │\n",
       "│ (<span style=\"color: #0087ff; text-decoration-color: #0087ff\">BatchNormalization</span>)            │                        │               │\n",
       "├─────────────────────────────────┼────────────────────────┼───────────────┤\n",
       "│ conv2d_1 (<span style=\"color: #0087ff; text-decoration-color: #0087ff\">Conv2D</span>)               │ (<span style=\"color: #00d7ff; text-decoration-color: #00d7ff\">None</span>, <span style=\"color: #00af00; text-decoration-color: #00af00\">24</span>, <span style=\"color: #00af00; text-decoration-color: #00af00\">24</span>, <span style=\"color: #00af00; text-decoration-color: #00af00\">32</span>)     │         <span style=\"color: #00af00; text-decoration-color: #00af00\">4,640</span> │\n",
       "├─────────────────────────────────┼────────────────────────┼───────────────┤\n",
       "│ dropout_1 (<span style=\"color: #0087ff; text-decoration-color: #0087ff\">Dropout</span>)             │ (<span style=\"color: #00d7ff; text-decoration-color: #00d7ff\">None</span>, <span style=\"color: #00af00; text-decoration-color: #00af00\">24</span>, <span style=\"color: #00af00; text-decoration-color: #00af00\">24</span>, <span style=\"color: #00af00; text-decoration-color: #00af00\">32</span>)     │             <span style=\"color: #00af00; text-decoration-color: #00af00\">0</span> │\n",
       "├─────────────────────────────────┼────────────────────────┼───────────────┤\n",
       "│ max_pooling2d_1 (<span style=\"color: #0087ff; text-decoration-color: #0087ff\">MaxPooling2D</span>)  │ (<span style=\"color: #00d7ff; text-decoration-color: #00d7ff\">None</span>, <span style=\"color: #00af00; text-decoration-color: #00af00\">12</span>, <span style=\"color: #00af00; text-decoration-color: #00af00\">12</span>, <span style=\"color: #00af00; text-decoration-color: #00af00\">32</span>)     │             <span style=\"color: #00af00; text-decoration-color: #00af00\">0</span> │\n",
       "├─────────────────────────────────┼────────────────────────┼───────────────┤\n",
       "│ batch_normalization_1           │ (<span style=\"color: #00d7ff; text-decoration-color: #00d7ff\">None</span>, <span style=\"color: #00af00; text-decoration-color: #00af00\">12</span>, <span style=\"color: #00af00; text-decoration-color: #00af00\">12</span>, <span style=\"color: #00af00; text-decoration-color: #00af00\">32</span>)     │           <span style=\"color: #00af00; text-decoration-color: #00af00\">128</span> │\n",
       "│ (<span style=\"color: #0087ff; text-decoration-color: #0087ff\">BatchNormalization</span>)            │                        │               │\n",
       "├─────────────────────────────────┼────────────────────────┼───────────────┤\n",
       "│ conv2d_2 (<span style=\"color: #0087ff; text-decoration-color: #0087ff\">Conv2D</span>)               │ (<span style=\"color: #00d7ff; text-decoration-color: #00d7ff\">None</span>, <span style=\"color: #00af00; text-decoration-color: #00af00\">12</span>, <span style=\"color: #00af00; text-decoration-color: #00af00\">12</span>, <span style=\"color: #00af00; text-decoration-color: #00af00\">32</span>)     │         <span style=\"color: #00af00; text-decoration-color: #00af00\">9,248</span> │\n",
       "├─────────────────────────────────┼────────────────────────┼───────────────┤\n",
       "│ dropout_2 (<span style=\"color: #0087ff; text-decoration-color: #0087ff\">Dropout</span>)             │ (<span style=\"color: #00d7ff; text-decoration-color: #00d7ff\">None</span>, <span style=\"color: #00af00; text-decoration-color: #00af00\">12</span>, <span style=\"color: #00af00; text-decoration-color: #00af00\">12</span>, <span style=\"color: #00af00; text-decoration-color: #00af00\">32</span>)     │             <span style=\"color: #00af00; text-decoration-color: #00af00\">0</span> │\n",
       "├─────────────────────────────────┼────────────────────────┼───────────────┤\n",
       "│ max_pooling2d_2 (<span style=\"color: #0087ff; text-decoration-color: #0087ff\">MaxPooling2D</span>)  │ (<span style=\"color: #00d7ff; text-decoration-color: #00d7ff\">None</span>, <span style=\"color: #00af00; text-decoration-color: #00af00\">6</span>, <span style=\"color: #00af00; text-decoration-color: #00af00\">6</span>, <span style=\"color: #00af00; text-decoration-color: #00af00\">32</span>)       │             <span style=\"color: #00af00; text-decoration-color: #00af00\">0</span> │\n",
       "├─────────────────────────────────┼────────────────────────┼───────────────┤\n",
       "│ batch_normalization_2           │ (<span style=\"color: #00d7ff; text-decoration-color: #00d7ff\">None</span>, <span style=\"color: #00af00; text-decoration-color: #00af00\">6</span>, <span style=\"color: #00af00; text-decoration-color: #00af00\">6</span>, <span style=\"color: #00af00; text-decoration-color: #00af00\">32</span>)       │           <span style=\"color: #00af00; text-decoration-color: #00af00\">128</span> │\n",
       "│ (<span style=\"color: #0087ff; text-decoration-color: #0087ff\">BatchNormalization</span>)            │                        │               │\n",
       "├─────────────────────────────────┼────────────────────────┼───────────────┤\n",
       "│ conv2d_3 (<span style=\"color: #0087ff; text-decoration-color: #0087ff\">Conv2D</span>)               │ (<span style=\"color: #00d7ff; text-decoration-color: #00d7ff\">None</span>, <span style=\"color: #00af00; text-decoration-color: #00af00\">6</span>, <span style=\"color: #00af00; text-decoration-color: #00af00\">6</span>, <span style=\"color: #00af00; text-decoration-color: #00af00\">64</span>)       │        <span style=\"color: #00af00; text-decoration-color: #00af00\">18,496</span> │\n",
       "├─────────────────────────────────┼────────────────────────┼───────────────┤\n",
       "│ dropout_3 (<span style=\"color: #0087ff; text-decoration-color: #0087ff\">Dropout</span>)             │ (<span style=\"color: #00d7ff; text-decoration-color: #00d7ff\">None</span>, <span style=\"color: #00af00; text-decoration-color: #00af00\">6</span>, <span style=\"color: #00af00; text-decoration-color: #00af00\">6</span>, <span style=\"color: #00af00; text-decoration-color: #00af00\">64</span>)       │             <span style=\"color: #00af00; text-decoration-color: #00af00\">0</span> │\n",
       "├─────────────────────────────────┼────────────────────────┼───────────────┤\n",
       "│ max_pooling2d_3 (<span style=\"color: #0087ff; text-decoration-color: #0087ff\">MaxPooling2D</span>)  │ (<span style=\"color: #00d7ff; text-decoration-color: #00d7ff\">None</span>, <span style=\"color: #00af00; text-decoration-color: #00af00\">3</span>, <span style=\"color: #00af00; text-decoration-color: #00af00\">3</span>, <span style=\"color: #00af00; text-decoration-color: #00af00\">64</span>)       │             <span style=\"color: #00af00; text-decoration-color: #00af00\">0</span> │\n",
       "├─────────────────────────────────┼────────────────────────┼───────────────┤\n",
       "│ batch_normalization_3           │ (<span style=\"color: #00d7ff; text-decoration-color: #00d7ff\">None</span>, <span style=\"color: #00af00; text-decoration-color: #00af00\">3</span>, <span style=\"color: #00af00; text-decoration-color: #00af00\">3</span>, <span style=\"color: #00af00; text-decoration-color: #00af00\">64</span>)       │           <span style=\"color: #00af00; text-decoration-color: #00af00\">256</span> │\n",
       "│ (<span style=\"color: #0087ff; text-decoration-color: #0087ff\">BatchNormalization</span>)            │                        │               │\n",
       "├─────────────────────────────────┼────────────────────────┼───────────────┤\n",
       "│ flatten (<span style=\"color: #0087ff; text-decoration-color: #0087ff\">Flatten</span>)               │ (<span style=\"color: #00d7ff; text-decoration-color: #00d7ff\">None</span>, <span style=\"color: #00af00; text-decoration-color: #00af00\">576</span>)            │             <span style=\"color: #00af00; text-decoration-color: #00af00\">0</span> │\n",
       "├─────────────────────────────────┼────────────────────────┼───────────────┤\n",
       "│ dense (<span style=\"color: #0087ff; text-decoration-color: #0087ff\">Dense</span>)                   │ (<span style=\"color: #00d7ff; text-decoration-color: #00d7ff\">None</span>, <span style=\"color: #00af00; text-decoration-color: #00af00\">7</span>)              │         <span style=\"color: #00af00; text-decoration-color: #00af00\">4,039</span> │\n",
       "└─────────────────────────────────┴────────────────────────┴───────────────┘\n",
       "</pre>\n"
      ],
      "text/plain": [
       "┏━━━━━━━━━━━━━━━━━━━━━━━━━━━━━━━━━┳━━━━━━━━━━━━━━━━━━━━━━━━┳━━━━━━━━━━━━━━━┓\n",
       "┃\u001b[1m \u001b[0m\u001b[1mLayer (type)                   \u001b[0m\u001b[1m \u001b[0m┃\u001b[1m \u001b[0m\u001b[1mOutput Shape          \u001b[0m\u001b[1m \u001b[0m┃\u001b[1m \u001b[0m\u001b[1m      Param #\u001b[0m\u001b[1m \u001b[0m┃\n",
       "┡━━━━━━━━━━━━━━━━━━━━━━━━━━━━━━━━━╇━━━━━━━━━━━━━━━━━━━━━━━━╇━━━━━━━━━━━━━━━┩\n",
       "│ input_layer (\u001b[38;5;33mInputLayer\u001b[0m)        │ (\u001b[38;5;45mNone\u001b[0m, \u001b[38;5;34m48\u001b[0m, \u001b[38;5;34m48\u001b[0m, \u001b[38;5;34m1\u001b[0m)      │             \u001b[38;5;34m0\u001b[0m │\n",
       "├─────────────────────────────────┼────────────────────────┼───────────────┤\n",
       "│ conv2d (\u001b[38;5;33mConv2D\u001b[0m)                 │ (\u001b[38;5;45mNone\u001b[0m, \u001b[38;5;34m48\u001b[0m, \u001b[38;5;34m48\u001b[0m, \u001b[38;5;34m16\u001b[0m)     │           \u001b[38;5;34m160\u001b[0m │\n",
       "├─────────────────────────────────┼────────────────────────┼───────────────┤\n",
       "│ max_pooling2d (\u001b[38;5;33mMaxPooling2D\u001b[0m)    │ (\u001b[38;5;45mNone\u001b[0m, \u001b[38;5;34m24\u001b[0m, \u001b[38;5;34m24\u001b[0m, \u001b[38;5;34m16\u001b[0m)     │             \u001b[38;5;34m0\u001b[0m │\n",
       "├─────────────────────────────────┼────────────────────────┼───────────────┤\n",
       "│ dropout (\u001b[38;5;33mDropout\u001b[0m)               │ (\u001b[38;5;45mNone\u001b[0m, \u001b[38;5;34m24\u001b[0m, \u001b[38;5;34m24\u001b[0m, \u001b[38;5;34m16\u001b[0m)     │             \u001b[38;5;34m0\u001b[0m │\n",
       "├─────────────────────────────────┼────────────────────────┼───────────────┤\n",
       "│ batch_normalization             │ (\u001b[38;5;45mNone\u001b[0m, \u001b[38;5;34m24\u001b[0m, \u001b[38;5;34m24\u001b[0m, \u001b[38;5;34m16\u001b[0m)     │            \u001b[38;5;34m64\u001b[0m │\n",
       "│ (\u001b[38;5;33mBatchNormalization\u001b[0m)            │                        │               │\n",
       "├─────────────────────────────────┼────────────────────────┼───────────────┤\n",
       "│ conv2d_1 (\u001b[38;5;33mConv2D\u001b[0m)               │ (\u001b[38;5;45mNone\u001b[0m, \u001b[38;5;34m24\u001b[0m, \u001b[38;5;34m24\u001b[0m, \u001b[38;5;34m32\u001b[0m)     │         \u001b[38;5;34m4,640\u001b[0m │\n",
       "├─────────────────────────────────┼────────────────────────┼───────────────┤\n",
       "│ dropout_1 (\u001b[38;5;33mDropout\u001b[0m)             │ (\u001b[38;5;45mNone\u001b[0m, \u001b[38;5;34m24\u001b[0m, \u001b[38;5;34m24\u001b[0m, \u001b[38;5;34m32\u001b[0m)     │             \u001b[38;5;34m0\u001b[0m │\n",
       "├─────────────────────────────────┼────────────────────────┼───────────────┤\n",
       "│ max_pooling2d_1 (\u001b[38;5;33mMaxPooling2D\u001b[0m)  │ (\u001b[38;5;45mNone\u001b[0m, \u001b[38;5;34m12\u001b[0m, \u001b[38;5;34m12\u001b[0m, \u001b[38;5;34m32\u001b[0m)     │             \u001b[38;5;34m0\u001b[0m │\n",
       "├─────────────────────────────────┼────────────────────────┼───────────────┤\n",
       "│ batch_normalization_1           │ (\u001b[38;5;45mNone\u001b[0m, \u001b[38;5;34m12\u001b[0m, \u001b[38;5;34m12\u001b[0m, \u001b[38;5;34m32\u001b[0m)     │           \u001b[38;5;34m128\u001b[0m │\n",
       "│ (\u001b[38;5;33mBatchNormalization\u001b[0m)            │                        │               │\n",
       "├─────────────────────────────────┼────────────────────────┼───────────────┤\n",
       "│ conv2d_2 (\u001b[38;5;33mConv2D\u001b[0m)               │ (\u001b[38;5;45mNone\u001b[0m, \u001b[38;5;34m12\u001b[0m, \u001b[38;5;34m12\u001b[0m, \u001b[38;5;34m32\u001b[0m)     │         \u001b[38;5;34m9,248\u001b[0m │\n",
       "├─────────────────────────────────┼────────────────────────┼───────────────┤\n",
       "│ dropout_2 (\u001b[38;5;33mDropout\u001b[0m)             │ (\u001b[38;5;45mNone\u001b[0m, \u001b[38;5;34m12\u001b[0m, \u001b[38;5;34m12\u001b[0m, \u001b[38;5;34m32\u001b[0m)     │             \u001b[38;5;34m0\u001b[0m │\n",
       "├─────────────────────────────────┼────────────────────────┼───────────────┤\n",
       "│ max_pooling2d_2 (\u001b[38;5;33mMaxPooling2D\u001b[0m)  │ (\u001b[38;5;45mNone\u001b[0m, \u001b[38;5;34m6\u001b[0m, \u001b[38;5;34m6\u001b[0m, \u001b[38;5;34m32\u001b[0m)       │             \u001b[38;5;34m0\u001b[0m │\n",
       "├─────────────────────────────────┼────────────────────────┼───────────────┤\n",
       "│ batch_normalization_2           │ (\u001b[38;5;45mNone\u001b[0m, \u001b[38;5;34m6\u001b[0m, \u001b[38;5;34m6\u001b[0m, \u001b[38;5;34m32\u001b[0m)       │           \u001b[38;5;34m128\u001b[0m │\n",
       "│ (\u001b[38;5;33mBatchNormalization\u001b[0m)            │                        │               │\n",
       "├─────────────────────────────────┼────────────────────────┼───────────────┤\n",
       "│ conv2d_3 (\u001b[38;5;33mConv2D\u001b[0m)               │ (\u001b[38;5;45mNone\u001b[0m, \u001b[38;5;34m6\u001b[0m, \u001b[38;5;34m6\u001b[0m, \u001b[38;5;34m64\u001b[0m)       │        \u001b[38;5;34m18,496\u001b[0m │\n",
       "├─────────────────────────────────┼────────────────────────┼───────────────┤\n",
       "│ dropout_3 (\u001b[38;5;33mDropout\u001b[0m)             │ (\u001b[38;5;45mNone\u001b[0m, \u001b[38;5;34m6\u001b[0m, \u001b[38;5;34m6\u001b[0m, \u001b[38;5;34m64\u001b[0m)       │             \u001b[38;5;34m0\u001b[0m │\n",
       "├─────────────────────────────────┼────────────────────────┼───────────────┤\n",
       "│ max_pooling2d_3 (\u001b[38;5;33mMaxPooling2D\u001b[0m)  │ (\u001b[38;5;45mNone\u001b[0m, \u001b[38;5;34m3\u001b[0m, \u001b[38;5;34m3\u001b[0m, \u001b[38;5;34m64\u001b[0m)       │             \u001b[38;5;34m0\u001b[0m │\n",
       "├─────────────────────────────────┼────────────────────────┼───────────────┤\n",
       "│ batch_normalization_3           │ (\u001b[38;5;45mNone\u001b[0m, \u001b[38;5;34m3\u001b[0m, \u001b[38;5;34m3\u001b[0m, \u001b[38;5;34m64\u001b[0m)       │           \u001b[38;5;34m256\u001b[0m │\n",
       "│ (\u001b[38;5;33mBatchNormalization\u001b[0m)            │                        │               │\n",
       "├─────────────────────────────────┼────────────────────────┼───────────────┤\n",
       "│ flatten (\u001b[38;5;33mFlatten\u001b[0m)               │ (\u001b[38;5;45mNone\u001b[0m, \u001b[38;5;34m576\u001b[0m)            │             \u001b[38;5;34m0\u001b[0m │\n",
       "├─────────────────────────────────┼────────────────────────┼───────────────┤\n",
       "│ dense (\u001b[38;5;33mDense\u001b[0m)                   │ (\u001b[38;5;45mNone\u001b[0m, \u001b[38;5;34m7\u001b[0m)              │         \u001b[38;5;34m4,039\u001b[0m │\n",
       "└─────────────────────────────────┴────────────────────────┴───────────────┘\n"
      ]
     },
     "metadata": {},
     "output_type": "display_data"
    },
    {
     "data": {
      "text/html": [
       "<pre style=\"white-space:pre;overflow-x:auto;line-height:normal;font-family:Menlo,'DejaVu Sans Mono',consolas,'Courier New',monospace\"><span style=\"font-weight: bold\"> Total params: </span><span style=\"color: #00af00; text-decoration-color: #00af00\">37,159</span> (145.15 KB)\n",
       "</pre>\n"
      ],
      "text/plain": [
       "\u001b[1m Total params: \u001b[0m\u001b[38;5;34m37,159\u001b[0m (145.15 KB)\n"
      ]
     },
     "metadata": {},
     "output_type": "display_data"
    },
    {
     "data": {
      "text/html": [
       "<pre style=\"white-space:pre;overflow-x:auto;line-height:normal;font-family:Menlo,'DejaVu Sans Mono',consolas,'Courier New',monospace\"><span style=\"font-weight: bold\"> Trainable params: </span><span style=\"color: #00af00; text-decoration-color: #00af00\">36,871</span> (144.03 KB)\n",
       "</pre>\n"
      ],
      "text/plain": [
       "\u001b[1m Trainable params: \u001b[0m\u001b[38;5;34m36,871\u001b[0m (144.03 KB)\n"
      ]
     },
     "metadata": {},
     "output_type": "display_data"
    },
    {
     "data": {
      "text/html": [
       "<pre style=\"white-space:pre;overflow-x:auto;line-height:normal;font-family:Menlo,'DejaVu Sans Mono',consolas,'Courier New',monospace\"><span style=\"font-weight: bold\"> Non-trainable params: </span><span style=\"color: #00af00; text-decoration-color: #00af00\">288</span> (1.12 KB)\n",
       "</pre>\n"
      ],
      "text/plain": [
       "\u001b[1m Non-trainable params: \u001b[0m\u001b[38;5;34m288\u001b[0m (1.12 KB)\n"
      ]
     },
     "metadata": {},
     "output_type": "display_data"
    }
   ],
   "source": [
    "def model():\n",
    "    input_layer = layers.Input(img_train.shape[1:])\n",
    "    #Basic structure - Convolute, MaxPool, Dropout, Normalize.\n",
    "    #Convolutes image data.\n",
    "    x = layers.Conv2D(16, 3, dilation_rate = 2, strides=1, activation=LeakyReLU(negative_slope = 0.1), padding=\"same\", kernel_regularizer=l2(0.01))(input_layer)\n",
    "    #Halves output by taking maximum values of 2x2 areas. Highlights prominient features.\n",
    "    x = layers.MaxPooling2D()(x)\n",
    "    #Drops 20% of convolution filters. Prevents overfitting, accelerates calculations.\n",
    "    x = layers.Dropout(0.2)(x)\n",
    "    #Standardizes output, stabilizes what goes into the next layer.\n",
    "    x = layers.BatchNormalization()(x)\n",
    "    #Repeats 4 times, with more convolutions each time.\n",
    "    x = layers.Conv2D(32, 3, dilation_rate = 2, strides=1, activation=LeakyReLU(negative_slope = 0.1), padding=\"same\", kernel_regularizer=l2(0.01))(x)\n",
    "    x = layers.Dropout(0.2)(x)\n",
    "    x = layers.MaxPooling2D()(x)\n",
    "    x = layers.BatchNormalization()(x)\n",
    "    x = layers.Conv2D(32, 3, dilation_rate = 2, strides=1, activation=LeakyReLU(negative_slope = 0.1), padding=\"same\", kernel_regularizer=l2(0.01))(x)\n",
    "    x = layers.Dropout(0.2)(x)\n",
    "    x = layers.MaxPooling2D()(x)\n",
    "    x = layers.BatchNormalization()(x)\n",
    "    x = layers.Conv2D(64, 3, dilation_rate = 2, strides=1, activation=LeakyReLU(negative_slope = 0.1), padding=\"same\", kernel_regularizer=l2(0.01))(x)\n",
    "    x = layers.Dropout(0.2)(x)\n",
    "    x = layers.MaxPooling2D()(x)\n",
    "    x = layers.BatchNormalization()(x)\n",
    "    #Flattens to produce a 1-dimensional vector from the prior data. Needed for output layer.\n",
    "    x = layers.Flatten()(x)\n",
    "    #Dense layer produces probabilities equal to the number of classes.\n",
    "    output_layer = layers.Dense(7, activation=\"softmax\")(x)\n",
    "    model = models.Model(input_layer, output_layer)\n",
    "    return model\n",
    "model = model()\n",
    "model.summary()"
   ]
  },
  {
   "cell_type": "markdown",
   "id": "e4711578",
   "metadata": {},
   "source": [
    "I tweak several of the settings for my model to try to achieve maximum accuracy. In particular, I use Keras' categorical_focal_crossentropy loss function and Adam optimizer, as well as a callback function to stop the model once it reaches the peak of its validation accuracy."
   ]
  },
  {
   "cell_type": "code",
   "execution_count": 12,
   "id": "cab52bfb",
   "metadata": {
    "slideshow": {
     "slide_type": "skip"
    }
   },
   "outputs": [],
   "source": [
    "#The Adam optimizer dynamically adjusts learning rate and accelerates convergence.\n",
    "opt = optimizers.Adam(learning_rate=0.001, beta_1 = 0.9)\n",
    "my_metrics = [\"accuracy\", metrics.F1Score()]\n",
    "#Focuses on difficult-to-classify data.\n",
    "my_loss = losses.CategoricalFocalCrossentropy(\n",
    "    #Parameters involved with balancing class weights. \n",
    "    alpha=0.25,\n",
    "    gamma=3.0,\n",
    "    #Output is raw probability for classes.\n",
    "    from_logits=False,\n",
    "    #Prevents \"over-confidence\" - useful for nuanced ensembles.\n",
    "    label_smoothing=0.0,\n",
    "    #Output dimension for which loss is calculated.\n",
    "    axis=-1,\n",
    "    #Loss averaged over batch size.\n",
    "    reduction='sum_over_batch_size',\n",
    "    #Prioritizes difficult-to-classify examples.\n",
    "    name='categorical_focal_crossentropy'\n",
    ")"
   ]
  },
  {
   "cell_type": "code",
   "execution_count": 13,
   "id": "cfa2fcff",
   "metadata": {},
   "outputs": [],
   "source": [
    "class CustCallback(Callback):\n",
    "    def on_epoch_end(self, epoch, logs=None):\n",
    "        if (int(epoch) % 10) == 0:\n",
    "            accuracy = logs.get('accuracy')\n",
    "            val_accuracy = logs.get('val_accuracy')\n",
    "            loss = logs.get('loss')\n",
    "            print(f\"Epoch {epoch}: Accuracy: {accuracy:.4f}, Validation Accuracy: {val_accuracy:.4f}, Loss: {loss:.4f}\")\n",
    "        else:\n",
    "            pass"
   ]
  },
  {
   "cell_type": "code",
   "execution_count": 14,
   "id": "d8770c1e",
   "metadata": {
    "slideshow": {
     "slide_type": "skip"
    }
   },
   "outputs": [],
   "source": [
    "callbk = [\n",
    "    CustCallback(),\n",
    "    # Reduces learning rate when model stops improving validation accuracy.\n",
    "    callbacks.ReduceLROnPlateau(\n",
    "        monitor='val_accuracy',\n",
    "        # Rate at which learning rate decreases.\n",
    "        factor=0.1,\n",
    "        # Waits until ten epochs without improvement to activate.\n",
    "        patience=10,\n",
    "        verbose=0,\n",
    "        mode='auto',\n",
    "        # Does not wait after reducing learning rate to reduce again.\n",
    "        cooldown=0,\n",
    "        # Model cannot surpass this minimum learning rate.\n",
    "        min_lr=0.000001,\n",
    "    ),\n",
    "    # Stops the model training early if validation accuracy does not improve after ten eochs.\n",
    "    tf.keras.callbacks.EarlyStopping(\n",
    "        monitor='val_accuracy',\n",
    "        min_delta=0,\n",
    "        patience=10,\n",
    "        verbose=1,\n",
    "        mode='auto',\n",
    "        baseline=None,\n",
    "        # Restores model to most accurate version if early stopping occurs.\n",
    "        restore_best_weights=True,\n",
    "        start_from_epoch=0\n",
    "     )\n",
    "]"
   ]
  },
  {
   "cell_type": "code",
   "execution_count": 15,
   "id": "17cc9cb1",
   "metadata": {
    "slideshow": {
     "slide_type": "skip"
    }
   },
   "outputs": [],
   "source": [
    "model.compile(\n",
    "    loss=my_loss, optimizer=opt, metrics=my_metrics\n",
    ")"
   ]
  },
  {
   "cell_type": "code",
   "execution_count": 16,
   "id": "93e3ca27",
   "metadata": {
    "slideshow": {
     "slide_type": "slide"
    }
   },
   "outputs": [
    {
     "name": "stdout",
     "output_type": "stream",
     "text": [
      "Epoch 0: Accuracy: 0.1804, Validation Accuracy: 0.1387, Loss: 1.3386\n",
      "Epoch 10: Accuracy: 0.4380, Validation Accuracy: 0.2724, Loss: 0.3351\n",
      "Epoch 20: Accuracy: 0.5498, Validation Accuracy: 0.3197, Loss: 0.2628\n",
      "Epoch 30: Accuracy: 0.6318, Validation Accuracy: 0.3589, Loss: 0.2337\n",
      "Epoch 40: Accuracy: 0.6298, Validation Accuracy: 0.3736, Loss: 0.2357\n",
      "Epoch 44: early stopping\n",
      "Restoring model weights from the end of the best epoch: 34.\n",
      "412.7949481010437\n"
     ]
    }
   ],
   "source": [
    "start = time.time()\n",
    "model.fit(img_train, expr_train, batch_size=32, epochs=1000, shuffle=True, validation_split=0.2, callbacks = callbk, verbose = 0)\n",
    "end = time.time()\n",
    "print(end-start)"
   ]
  },
  {
   "cell_type": "markdown",
   "id": "4acae3ce",
   "metadata": {},
   "source": [
    "The model's output is a set of seven probabilities within an array. The highest amount within the matrix is the model's prediction (the most likely emotion). Accuracy is determined by the number of correct predictions divided by the number of all predictions. For ease of comprehension, this prediction is matched with an emotional label in the CLASSES list."
   ]
  },
  {
   "cell_type": "code",
   "execution_count": 17,
   "id": "f08244ad",
   "metadata": {},
   "outputs": [
    {
     "name": "stdout",
     "output_type": "stream",
     "text": [
      "\u001b[1m24/24\u001b[0m \u001b[32m━━━━━━━━━━━━━━━━━━━━\u001b[0m\u001b[37m\u001b[0m \u001b[1m2s\u001b[0m 31ms/step - accuracy: 0.3611 - f1_score: 0.3578 - loss: 0.3574\n"
     ]
    }
   ],
   "source": [
    "#I use an example of a trained model I saved beforehand to facilitate the display of this model's capabilities. \n",
    "model = load_model('models/mlp_09082024.h5', custom_objects={'LeakyReLU': LeakyReLU})\n",
    "results = model.evaluate(img_test, expr_test)"
   ]
  },
  {
   "cell_type": "code",
   "execution_count": 18,
   "id": "ab372f2b",
   "metadata": {
    "slideshow": {
     "slide_type": "skip"
    }
   },
   "outputs": [
    {
     "name": "stdout",
     "output_type": "stream",
     "text": [
      "\u001b[1m24/24\u001b[0m \u001b[32m━━━━━━━━━━━━━━━━━━━━\u001b[0m\u001b[37m\u001b[0m \u001b[1m1s\u001b[0m 37ms/step\n"
     ]
    }
   ],
   "source": [
    "CLASSES = np.array(\n",
    "    [\n",
    "        \"anger\",\n",
    "        \"disgust\",\n",
    "        \"fear\",\n",
    "        \"happiness\",\n",
    "        \"neutral\",\n",
    "        \"sadness\",\n",
    "        \"surprise\"\n",
    "    ]\n",
    ")\n",
    "\n",
    "preds = model.predict(img_test)\n",
    "preds_single = CLASSES[np.argmax(preds, axis=-1)]\n",
    "actual_single = CLASSES[np.argmax(expr_test, axis=-1)]"
   ]
  },
  {
   "cell_type": "code",
   "execution_count": 19,
   "id": "09130ee6",
   "metadata": {
    "slideshow": {
     "slide_type": "fragment"
    }
   },
   "outputs": [
    {
     "name": "stdout",
     "output_type": "stream",
     "text": [
      "[0.09208257 0.05955623 0.28744435 0.2511964  0.08311796 0.12929142\n",
      " 0.09731093] \n",
      " fear \n",
      " sadness\n"
     ]
    }
   ],
   "source": [
    "# A raw prediction, a final prediction, and what the prediction was meant to be.\n",
    "print(preds[0], \"\\n\", preds_single[0], \"\\n\", actual_single[0])"
   ]
  },
  {
   "cell_type": "markdown",
   "id": "31a47691",
   "metadata": {},
   "source": [
    "Below is the number of correct predictions the model made per emotion. Because we used a 4:1 train-test ratio stratified by emotion, and we're using 3,829 images, there should be around 110 examples of each emotion in the testing data. Therefore, you could interpret the amounts of correct predictions as fractions of 110. These counts are also displayed in a simple histogram for ease of comprehension.\n",
    "\n",
    "Typically, this model performs best when predicting disgust and surprise. Disgust and surprise, having very distinct facial expressions, are easy for the model to separate from other emotions. With disgust, one's entrie expression tightens, as the nose wrinkles, eyes narrow, and lips withdraw. With surprise it is the opposite, as ones eyes and mouth widen to convey shock. Noticeable features such as these are highlighted well by the model.\n",
    "\n",
    "The model performs worst, however, when predicting anger and neutrality. Anger, fear, and surprise are correlated emotions, each being a part of the human \"fight or flight\" reponse. In response to a threat - like, for example, being approached by a wild bear - a physiological reaction coloquially known as the \"adrenaline rush\" occurs. Surprise may be seen as the initial stage of the fight or flight response, whereas anger and fear correspond to the two options of fighting the threatening stimulus or running away from it. It is therefore possible that the model is confusing anger for fear or surprise at times.\n",
    "\n",
    "The model's weakness when predicting neutrality is the inverse of its strength in predicting disgust and surprise, because there are very few reliable indicators to distinguish a neutral expression from any other kind. All of the other emotions have distinguishable characteristics, but a neutral expression is somewhere in between those recognizable features. Additionally, as it was not included in Ekman's theory, neutrality is more defined by what it is not than what it is. "
   ]
  },
  {
   "cell_type": "code",
   "execution_count": 20,
   "id": "4d48811f",
   "metadata": {
    "scrolled": true,
    "slideshow": {
     "slide_type": "skip"
    }
   },
   "outputs": [
    {
     "name": "stdout",
     "output_type": "stream",
     "text": [
      "{'anger': 12, 'disgust': 69, 'fear': 35, 'happiness': 54, 'neutral': 27, 'sadness': 38, 'surprise': 48}\n"
     ]
    }
   ],
   "source": [
    "correctpreds = []\n",
    "for i in range(0, len(preds)):\n",
    "    if preds_single[i] == actual_single[i]:\n",
    "        correctpreds.append(preds_single[i])\n",
    "    else:\n",
    "        pass\n",
    "value_counts = dict(Counter(correctpreds))\n",
    "desired_order = ['anger', 'disgust', 'fear', 'happiness', 'neutral', 'sadness', 'surprise']\n",
    "value_counts = {x: value_counts[x] for x in desired_order}\n",
    "print(value_counts)"
   ]
  },
  {
   "cell_type": "code",
   "execution_count": 21,
   "id": "9bc7763b",
   "metadata": {
    "slideshow": {
     "slide_type": "skip"
    }
   },
   "outputs": [
    {
     "data": {
      "image/png": "[encoded data removed]",
      "text/plain": [
       "<Figure size 643.861x500 with 1 Axes>"
      ]
     },
     "metadata": {},
     "output_type": "display_data"
    }
   ],
   "source": [
    "custom_palette = {\n",
    "    \"anger\":\"red\",\n",
    "    \"disgust\":\"green\",\n",
    "    \"fear\":\"purple\",\n",
    "    \"happiness\":\"yellow\",\n",
    "    \"neutral\":\"black\", \n",
    "    \"sadness\":\"blue\",\n",
    "    \"surprise\":\"magenta\"}\n",
    "value_countsdf = pd.DataFrame({'correct_predictions':correctpreds})\n",
    "value_countsdf.sort_values(['correct_predictions'], inplace=True)\n",
    "plot = sns.displot(data = value_countsdf,\n",
    "                x = 'correct_predictions',\n",
    "                kind = 'hist',\n",
    "                hue = 'correct_predictions',\n",
    "                palette = custom_palette)\n",
    "plt.xlabel('Correct Predictions per Emotion')\n",
    "plt.xticks(rotation=30)\n",
    "plt.title('Image Prediction Accuracy')\n",
    "plt.ylim(0, 100)\n",
    "plt.show()"
   ]
  },
  {
   "cell_type": "markdown",
   "id": "99434d91",
   "metadata": {
    "slideshow": {
     "slide_type": "slide"
    }
   },
   "source": [
    "## The Text Classifier\n",
    "The text data was sourced from this Kaggle dataset: https://github.com/Valendrew/ekman-emotion-detection\n",
    "\n",
    "The text data consists of various short comments found on Reddit from various communities. In order to create a soft voting ensemble at the end of this notebook, we must use an equal amount of data as was used for the multilayer perceptron."
   ]
  },
  {
   "cell_type": "code",
   "execution_count": 22,
   "id": "e29f3884",
   "metadata": {
    "scrolled": true,
    "slideshow": {
     "slide_type": "skip"
    }
   },
   "outputs": [
    {
     "data": {
      "text/plain": [
       "(5427, 3)"
      ]
     },
     "execution_count": 22,
     "metadata": {},
     "output_type": "execute_result"
    }
   ],
   "source": [
    "test_prompts = pd.read_csv(\"test_ekmann.csv\")\n",
    "test_prompts.shape"
   ]
  },
  {
   "cell_type": "code",
   "execution_count": 23,
   "id": "efba466c",
   "metadata": {
    "slideshow": {
     "slide_type": "skip"
    }
   },
   "outputs": [
    {
     "data": {
      "text/plain": [
       "(43410, 3)"
      ]
     },
     "execution_count": 23,
     "metadata": {},
     "output_type": "execute_result"
    }
   ],
   "source": [
    "train_prompts = pd.read_csv(\"train_ekmann.csv\")\n",
    "train_prompts.shape"
   ]
  },
  {
   "cell_type": "code",
   "execution_count": 24,
   "id": "b7a0db00",
   "metadata": {
    "slideshow": {
     "slide_type": "skip"
    }
   },
   "outputs": [
    {
     "data": {
      "text/plain": [
       "(3829, 3)"
      ]
     },
     "execution_count": 24,
     "metadata": {},
     "output_type": "execute_result"
    }
   ],
   "source": [
    "# Adding both the training and testing data together.\n",
    "prompts = pd.concat([test_prompts, train_prompts])\n",
    "prompts = prompts.sort_values(by='Emotion')\n",
    "# The first 547 examples of text data for each emotion are taken, becoming the new dataset.\n",
    "prompts = prompts.groupby('Emotion').head(547)\n",
    "prompts.shape"
   ]
  },
  {
   "cell_type": "code",
   "execution_count": 25,
   "id": "ff7c64e2",
   "metadata": {
    "slideshow": {
     "slide_type": "skip"
    }
   },
   "outputs": [
    {
     "data": {
      "text/html": [
       "<div>\n",
       "<style scoped>\n",
       "    .dataframe tbody tr th:only-of-type {\n",
       "        vertical-align: middle;\n",
       "    }\n",
       "\n",
       "    .dataframe tbody tr th {\n",
       "        vertical-align: top;\n",
       "    }\n",
       "\n",
       "    .dataframe thead th {\n",
       "        text-align: right;\n",
       "    }\n",
       "</style>\n",
       "<table border=\"1\" class=\"dataframe\">\n",
       "  <thead>\n",
       "    <tr style=\"text-align: right;\">\n",
       "      <th></th>\n",
       "      <th>Text</th>\n",
       "      <th>Emotion</th>\n",
       "      <th>Id</th>\n",
       "    </tr>\n",
       "  </thead>\n",
       "  <tbody>\n",
       "    <tr>\n",
       "      <th>1526</th>\n",
       "      <td>shockingly close to reality.</td>\n",
       "      <td>surprise</td>\n",
       "      <td>edenhhr</td>\n",
       "    </tr>\n",
       "    <tr>\n",
       "      <th>12613</th>\n",
       "      <td>This reminds me of suits. (Currently about to ...</td>\n",
       "      <td>surprise</td>\n",
       "      <td>edi17ol</td>\n",
       "    </tr>\n",
       "    <tr>\n",
       "      <th>12945</th>\n",
       "      <td>That is so sad. So your sisters got to ruin th...</td>\n",
       "      <td>surprise</td>\n",
       "      <td>eey3lhi</td>\n",
       "    </tr>\n",
       "    <tr>\n",
       "      <th>11116</th>\n",
       "      <td>They mean staged. This video is portrayed as a...</td>\n",
       "      <td>surprise</td>\n",
       "      <td>eemvsju</td>\n",
       "    </tr>\n",
       "    <tr>\n",
       "      <th>16331</th>\n",
       "      <td>Really? I thought this joke was a bit plane</td>\n",
       "      <td>surprise</td>\n",
       "      <td>eeivot7</td>\n",
       "    </tr>\n",
       "  </tbody>\n",
       "</table>\n",
       "</div>"
      ],
      "text/plain": [
       "                                                    Text   Emotion       Id\n",
       "1526                        shockingly close to reality.  surprise  edenhhr\n",
       "12613  This reminds me of suits. (Currently about to ...  surprise  edi17ol\n",
       "12945  That is so sad. So your sisters got to ruin th...  surprise  eey3lhi\n",
       "11116  They mean staged. This video is portrayed as a...  surprise  eemvsju\n",
       "16331        Really? I thought this joke was a bit plane  surprise  eeivot7"
      ]
     },
     "execution_count": 25,
     "metadata": {},
     "output_type": "execute_result"
    }
   ],
   "source": [
    "prompts.tail()\n"
   ]
  },
  {
   "cell_type": "markdown",
   "id": "ce9a47f7",
   "metadata": {},
   "source": [
    "Preprocessing the text data for use in a text classifier is a simple process. First, a function is written that will place spaces in between all punctuation marks in a given sentence, and shorten instances where there are multiple spaces in a row to just one space. We then run all entries in our text data through this function and vectorize it.\n",
    "\n",
    "Vectorization converts our text into matrix data that the model can use. The TF-IDF vectorizer makes it so that words that are frequent across the corpus (the full collection of comments) have low weight, meaning they do not influence the model as much. This screens out commonly used words such as \"the\", \"a\", and \"and\", which are not emotionally charged. On the other hand, rare words that are frequently used in a few comments but not generally among the entire corpus are given extra weight, hopefully allowing the model to \"notice\" emotionally charged syntax including swears, insults, slang, etc."
   ]
  },
  {
   "cell_type": "code",
   "execution_count": 26,
   "id": "76e6a945",
   "metadata": {
    "slideshow": {
     "slide_type": "fragment"
    }
   },
   "outputs": [],
   "source": [
    "def pad_punctuation(s):\n",
    "    # Places spaces between all punctuation marks.\n",
    "    s = re.sub(f\"([{string.punctuation}, '\\n'])\", r\" \\1 \", s)\n",
    "    # Shortens instances with multiple spaces to just one.\n",
    "    s = re.sub(\" +\", \" \", s)\n",
    "    return s\n",
    "\n",
    "text = [pad_punctuation(x) for x in prompts.Text]\n",
    "emot = [x for x in prompts.Emotion]"
   ]
  },
  {
   "cell_type": "code",
   "execution_count": 27,
   "id": "03bd80f4",
   "metadata": {
    "slideshow": {
     "slide_type": "fragment"
    }
   },
   "outputs": [],
   "source": [
    "# Term Frequency-Inverse Document Frequency - a method of vectorization that converts the text into readable arrays.\n",
    "# TF (How frequently a word appears) - IDF (Reduces weight of high-frequency words).\n",
    "vectorizer = TfidfVectorizer()\n",
    "text = vectorizer.fit_transform(text)"
   ]
  },
  {
   "cell_type": "markdown",
   "id": "730f88f5",
   "metadata": {},
   "source": [
    "This time, the emotional correspondence to our independent variable comes in the same dataset. We need to first convert the string data into numerical values, so that we can do the exact same preprocessing step we used in the multilayer perceptron. That our models both have similar outputs allows them to be combined at the end."
   ]
  },
  {
   "cell_type": "code",
   "execution_count": 28,
   "id": "5e359052",
   "metadata": {
    "slideshow": {
     "slide_type": "skip"
    }
   },
   "outputs": [],
   "source": [
    "emot_to_num = {'anger': 0, 'disgust': 1, 'fear': 2, 'joy':3, 'neutral':4, 'sadness':5, 'surprise':6}\n",
    "emot = [emot_to_num.get(x, x) for x in emot]"
   ]
  },
  {
   "cell_type": "code",
   "execution_count": 29,
   "id": "6226c3ea",
   "metadata": {
    "slideshow": {
     "slide_type": "skip"
    }
   },
   "outputs": [
    {
     "data": {
      "text/plain": [
       "{0, 1, 2, 3, 4, 5, 6}"
      ]
     },
     "execution_count": 29,
     "metadata": {},
     "output_type": "execute_result"
    }
   ],
   "source": [
    "set(emot)"
   ]
  },
  {
   "cell_type": "code",
   "execution_count": 30,
   "id": "f50b7a13",
   "metadata": {
    "slideshow": {
     "slide_type": "skip"
    }
   },
   "outputs": [],
   "source": [
    "text_train, text_test, emot_train, emot_test = tts(text, emot, stratify = emot, test_size = 0.2, random_state = 1, shuffle = True)"
   ]
  },
  {
   "cell_type": "code",
   "execution_count": 31,
   "id": "6a431dfa",
   "metadata": {
    "slideshow": {
     "slide_type": "skip"
    }
   },
   "outputs": [],
   "source": [
    "emot_train = utils.to_categorical(emot_train, 7)\n",
    "emot_test = utils.to_categorical(emot_test, 7)"
   ]
  },
  {
   "cell_type": "markdown",
   "id": "c03a44f8",
   "metadata": {},
   "source": [
    "The Text Classifier uses a simpler three-step process as opposed to the Multilayer Perceptron. The three steps are:\n",
    "1. Dense layers process the input data and adjust their weights.\n",
    "2. Dropout layers discard 20% of the neurons to prevent overfitting.\n",
    "3. Batch Normalization normalizes the output.\n",
    "After four itierations of this process, the final output is flattened and used in the same kind of output layer as the Multilayer Perceptron."
   ]
  },
  {
   "cell_type": "code",
   "execution_count": 32,
   "id": "ad37123c",
   "metadata": {
    "slideshow": {
     "slide_type": "slide"
    }
   },
   "outputs": [
    {
     "data": {
      "text/html": [
       "<pre style=\"white-space:pre;overflow-x:auto;line-height:normal;font-family:Menlo,'DejaVu Sans Mono',consolas,'Courier New',monospace\"><span style=\"font-weight: bold\">Model: \"functional_1\"</span>\n",
       "</pre>\n"
      ],
      "text/plain": [
       "\u001b[1mModel: \"functional_1\"\u001b[0m\n"
      ]
     },
     "metadata": {},
     "output_type": "display_data"
    },
    {
     "data": {
      "text/html": [
       "<pre style=\"white-space:pre;overflow-x:auto;line-height:normal;font-family:Menlo,'DejaVu Sans Mono',consolas,'Courier New',monospace\">┏━━━━━━━━━━━━━━━━━━━━━━━━━━━━━━━━━┳━━━━━━━━━━━━━━━━━━━━━━━━┳━━━━━━━━━━━━━━━┓\n",
       "┃<span style=\"font-weight: bold\"> Layer (type)                    </span>┃<span style=\"font-weight: bold\"> Output Shape           </span>┃<span style=\"font-weight: bold\">       Param # </span>┃\n",
       "┡━━━━━━━━━━━━━━━━━━━━━━━━━━━━━━━━━╇━━━━━━━━━━━━━━━━━━━━━━━━╇━━━━━━━━━━━━━━━┩\n",
       "│ input_layer_1 (<span style=\"color: #0087ff; text-decoration-color: #0087ff\">InputLayer</span>)      │ (<span style=\"color: #00d7ff; text-decoration-color: #00d7ff\">None</span>, <span style=\"color: #00af00; text-decoration-color: #00af00\">6951</span>)           │             <span style=\"color: #00af00; text-decoration-color: #00af00\">0</span> │\n",
       "├─────────────────────────────────┼────────────────────────┼───────────────┤\n",
       "│ dense_1 (<span style=\"color: #0087ff; text-decoration-color: #0087ff\">Dense</span>)                 │ (<span style=\"color: #00d7ff; text-decoration-color: #00d7ff\">None</span>, <span style=\"color: #00af00; text-decoration-color: #00af00\">16</span>)             │       <span style=\"color: #00af00; text-decoration-color: #00af00\">111,232</span> │\n",
       "├─────────────────────────────────┼────────────────────────┼───────────────┤\n",
       "│ dropout_4 (<span style=\"color: #0087ff; text-decoration-color: #0087ff\">Dropout</span>)             │ (<span style=\"color: #00d7ff; text-decoration-color: #00d7ff\">None</span>, <span style=\"color: #00af00; text-decoration-color: #00af00\">16</span>)             │             <span style=\"color: #00af00; text-decoration-color: #00af00\">0</span> │\n",
       "├─────────────────────────────────┼────────────────────────┼───────────────┤\n",
       "│ batch_normalization_4           │ (<span style=\"color: #00d7ff; text-decoration-color: #00d7ff\">None</span>, <span style=\"color: #00af00; text-decoration-color: #00af00\">16</span>)             │            <span style=\"color: #00af00; text-decoration-color: #00af00\">64</span> │\n",
       "│ (<span style=\"color: #0087ff; text-decoration-color: #0087ff\">BatchNormalization</span>)            │                        │               │\n",
       "├─────────────────────────────────┼────────────────────────┼───────────────┤\n",
       "│ dense_2 (<span style=\"color: #0087ff; text-decoration-color: #0087ff\">Dense</span>)                 │ (<span style=\"color: #00d7ff; text-decoration-color: #00d7ff\">None</span>, <span style=\"color: #00af00; text-decoration-color: #00af00\">32</span>)             │           <span style=\"color: #00af00; text-decoration-color: #00af00\">544</span> │\n",
       "├─────────────────────────────────┼────────────────────────┼───────────────┤\n",
       "│ dropout_5 (<span style=\"color: #0087ff; text-decoration-color: #0087ff\">Dropout</span>)             │ (<span style=\"color: #00d7ff; text-decoration-color: #00d7ff\">None</span>, <span style=\"color: #00af00; text-decoration-color: #00af00\">32</span>)             │             <span style=\"color: #00af00; text-decoration-color: #00af00\">0</span> │\n",
       "├─────────────────────────────────┼────────────────────────┼───────────────┤\n",
       "│ batch_normalization_5           │ (<span style=\"color: #00d7ff; text-decoration-color: #00d7ff\">None</span>, <span style=\"color: #00af00; text-decoration-color: #00af00\">32</span>)             │           <span style=\"color: #00af00; text-decoration-color: #00af00\">128</span> │\n",
       "│ (<span style=\"color: #0087ff; text-decoration-color: #0087ff\">BatchNormalization</span>)            │                        │               │\n",
       "├─────────────────────────────────┼────────────────────────┼───────────────┤\n",
       "│ dense_3 (<span style=\"color: #0087ff; text-decoration-color: #0087ff\">Dense</span>)                 │ (<span style=\"color: #00d7ff; text-decoration-color: #00d7ff\">None</span>, <span style=\"color: #00af00; text-decoration-color: #00af00\">32</span>)             │         <span style=\"color: #00af00; text-decoration-color: #00af00\">1,056</span> │\n",
       "├─────────────────────────────────┼────────────────────────┼───────────────┤\n",
       "│ dropout_6 (<span style=\"color: #0087ff; text-decoration-color: #0087ff\">Dropout</span>)             │ (<span style=\"color: #00d7ff; text-decoration-color: #00d7ff\">None</span>, <span style=\"color: #00af00; text-decoration-color: #00af00\">32</span>)             │             <span style=\"color: #00af00; text-decoration-color: #00af00\">0</span> │\n",
       "├─────────────────────────────────┼────────────────────────┼───────────────┤\n",
       "│ batch_normalization_6           │ (<span style=\"color: #00d7ff; text-decoration-color: #00d7ff\">None</span>, <span style=\"color: #00af00; text-decoration-color: #00af00\">32</span>)             │           <span style=\"color: #00af00; text-decoration-color: #00af00\">128</span> │\n",
       "│ (<span style=\"color: #0087ff; text-decoration-color: #0087ff\">BatchNormalization</span>)            │                        │               │\n",
       "├─────────────────────────────────┼────────────────────────┼───────────────┤\n",
       "│ dense_4 (<span style=\"color: #0087ff; text-decoration-color: #0087ff\">Dense</span>)                 │ (<span style=\"color: #00d7ff; text-decoration-color: #00d7ff\">None</span>, <span style=\"color: #00af00; text-decoration-color: #00af00\">64</span>)             │         <span style=\"color: #00af00; text-decoration-color: #00af00\">2,112</span> │\n",
       "├─────────────────────────────────┼────────────────────────┼───────────────┤\n",
       "│ dropout_7 (<span style=\"color: #0087ff; text-decoration-color: #0087ff\">Dropout</span>)             │ (<span style=\"color: #00d7ff; text-decoration-color: #00d7ff\">None</span>, <span style=\"color: #00af00; text-decoration-color: #00af00\">64</span>)             │             <span style=\"color: #00af00; text-decoration-color: #00af00\">0</span> │\n",
       "├─────────────────────────────────┼────────────────────────┼───────────────┤\n",
       "│ batch_normalization_7           │ (<span style=\"color: #00d7ff; text-decoration-color: #00d7ff\">None</span>, <span style=\"color: #00af00; text-decoration-color: #00af00\">64</span>)             │           <span style=\"color: #00af00; text-decoration-color: #00af00\">256</span> │\n",
       "│ (<span style=\"color: #0087ff; text-decoration-color: #0087ff\">BatchNormalization</span>)            │                        │               │\n",
       "├─────────────────────────────────┼────────────────────────┼───────────────┤\n",
       "│ flatten_1 (<span style=\"color: #0087ff; text-decoration-color: #0087ff\">Flatten</span>)             │ (<span style=\"color: #00d7ff; text-decoration-color: #00d7ff\">None</span>, <span style=\"color: #00af00; text-decoration-color: #00af00\">64</span>)             │             <span style=\"color: #00af00; text-decoration-color: #00af00\">0</span> │\n",
       "├─────────────────────────────────┼────────────────────────┼───────────────┤\n",
       "│ dense_5 (<span style=\"color: #0087ff; text-decoration-color: #0087ff\">Dense</span>)                 │ (<span style=\"color: #00d7ff; text-decoration-color: #00d7ff\">None</span>, <span style=\"color: #00af00; text-decoration-color: #00af00\">7</span>)              │           <span style=\"color: #00af00; text-decoration-color: #00af00\">455</span> │\n",
       "└─────────────────────────────────┴────────────────────────┴───────────────┘\n",
       "</pre>\n"
      ],
      "text/plain": [
       "┏━━━━━━━━━━━━━━━━━━━━━━━━━━━━━━━━━┳━━━━━━━━━━━━━━━━━━━━━━━━┳━━━━━━━━━━━━━━━┓\n",
       "┃\u001b[1m \u001b[0m\u001b[1mLayer (type)                   \u001b[0m\u001b[1m \u001b[0m┃\u001b[1m \u001b[0m\u001b[1mOutput Shape          \u001b[0m\u001b[1m \u001b[0m┃\u001b[1m \u001b[0m\u001b[1m      Param #\u001b[0m\u001b[1m \u001b[0m┃\n",
       "┡━━━━━━━━━━━━━━━━━━━━━━━━━━━━━━━━━╇━━━━━━━━━━━━━━━━━━━━━━━━╇━━━━━━━━━━━━━━━┩\n",
       "│ input_layer_1 (\u001b[38;5;33mInputLayer\u001b[0m)      │ (\u001b[38;5;45mNone\u001b[0m, \u001b[38;5;34m6951\u001b[0m)           │             \u001b[38;5;34m0\u001b[0m │\n",
       "├─────────────────────────────────┼────────────────────────┼───────────────┤\n",
       "│ dense_1 (\u001b[38;5;33mDense\u001b[0m)                 │ (\u001b[38;5;45mNone\u001b[0m, \u001b[38;5;34m16\u001b[0m)             │       \u001b[38;5;34m111,232\u001b[0m │\n",
       "├─────────────────────────────────┼────────────────────────┼───────────────┤\n",
       "│ dropout_4 (\u001b[38;5;33mDropout\u001b[0m)             │ (\u001b[38;5;45mNone\u001b[0m, \u001b[38;5;34m16\u001b[0m)             │             \u001b[38;5;34m0\u001b[0m │\n",
       "├─────────────────────────────────┼────────────────────────┼───────────────┤\n",
       "│ batch_normalization_4           │ (\u001b[38;5;45mNone\u001b[0m, \u001b[38;5;34m16\u001b[0m)             │            \u001b[38;5;34m64\u001b[0m │\n",
       "│ (\u001b[38;5;33mBatchNormalization\u001b[0m)            │                        │               │\n",
       "├─────────────────────────────────┼────────────────────────┼───────────────┤\n",
       "│ dense_2 (\u001b[38;5;33mDense\u001b[0m)                 │ (\u001b[38;5;45mNone\u001b[0m, \u001b[38;5;34m32\u001b[0m)             │           \u001b[38;5;34m544\u001b[0m │\n",
       "├─────────────────────────────────┼────────────────────────┼───────────────┤\n",
       "│ dropout_5 (\u001b[38;5;33mDropout\u001b[0m)             │ (\u001b[38;5;45mNone\u001b[0m, \u001b[38;5;34m32\u001b[0m)             │             \u001b[38;5;34m0\u001b[0m │\n",
       "├─────────────────────────────────┼────────────────────────┼───────────────┤\n",
       "│ batch_normalization_5           │ (\u001b[38;5;45mNone\u001b[0m, \u001b[38;5;34m32\u001b[0m)             │           \u001b[38;5;34m128\u001b[0m │\n",
       "│ (\u001b[38;5;33mBatchNormalization\u001b[0m)            │                        │               │\n",
       "├─────────────────────────────────┼────────────────────────┼───────────────┤\n",
       "│ dense_3 (\u001b[38;5;33mDense\u001b[0m)                 │ (\u001b[38;5;45mNone\u001b[0m, \u001b[38;5;34m32\u001b[0m)             │         \u001b[38;5;34m1,056\u001b[0m │\n",
       "├─────────────────────────────────┼────────────────────────┼───────────────┤\n",
       "│ dropout_6 (\u001b[38;5;33mDropout\u001b[0m)             │ (\u001b[38;5;45mNone\u001b[0m, \u001b[38;5;34m32\u001b[0m)             │             \u001b[38;5;34m0\u001b[0m │\n",
       "├─────────────────────────────────┼────────────────────────┼───────────────┤\n",
       "│ batch_normalization_6           │ (\u001b[38;5;45mNone\u001b[0m, \u001b[38;5;34m32\u001b[0m)             │           \u001b[38;5;34m128\u001b[0m │\n",
       "│ (\u001b[38;5;33mBatchNormalization\u001b[0m)            │                        │               │\n",
       "├─────────────────────────────────┼────────────────────────┼───────────────┤\n",
       "│ dense_4 (\u001b[38;5;33mDense\u001b[0m)                 │ (\u001b[38;5;45mNone\u001b[0m, \u001b[38;5;34m64\u001b[0m)             │         \u001b[38;5;34m2,112\u001b[0m │\n",
       "├─────────────────────────────────┼────────────────────────┼───────────────┤\n",
       "│ dropout_7 (\u001b[38;5;33mDropout\u001b[0m)             │ (\u001b[38;5;45mNone\u001b[0m, \u001b[38;5;34m64\u001b[0m)             │             \u001b[38;5;34m0\u001b[0m │\n",
       "├─────────────────────────────────┼────────────────────────┼───────────────┤\n",
       "│ batch_normalization_7           │ (\u001b[38;5;45mNone\u001b[0m, \u001b[38;5;34m64\u001b[0m)             │           \u001b[38;5;34m256\u001b[0m │\n",
       "│ (\u001b[38;5;33mBatchNormalization\u001b[0m)            │                        │               │\n",
       "├─────────────────────────────────┼────────────────────────┼───────────────┤\n",
       "│ flatten_1 (\u001b[38;5;33mFlatten\u001b[0m)             │ (\u001b[38;5;45mNone\u001b[0m, \u001b[38;5;34m64\u001b[0m)             │             \u001b[38;5;34m0\u001b[0m │\n",
       "├─────────────────────────────────┼────────────────────────┼───────────────┤\n",
       "│ dense_5 (\u001b[38;5;33mDense\u001b[0m)                 │ (\u001b[38;5;45mNone\u001b[0m, \u001b[38;5;34m7\u001b[0m)              │           \u001b[38;5;34m455\u001b[0m │\n",
       "└─────────────────────────────────┴────────────────────────┴───────────────┘\n"
      ]
     },
     "metadata": {},
     "output_type": "display_data"
    },
    {
     "data": {
      "text/html": [
       "<pre style=\"white-space:pre;overflow-x:auto;line-height:normal;font-family:Menlo,'DejaVu Sans Mono',consolas,'Courier New',monospace\"><span style=\"font-weight: bold\"> Total params: </span><span style=\"color: #00af00; text-decoration-color: #00af00\">115,975</span> (453.03 KB)\n",
       "</pre>\n"
      ],
      "text/plain": [
       "\u001b[1m Total params: \u001b[0m\u001b[38;5;34m115,975\u001b[0m (453.03 KB)\n"
      ]
     },
     "metadata": {},
     "output_type": "display_data"
    },
    {
     "data": {
      "text/html": [
       "<pre style=\"white-space:pre;overflow-x:auto;line-height:normal;font-family:Menlo,'DejaVu Sans Mono',consolas,'Courier New',monospace\"><span style=\"font-weight: bold\"> Trainable params: </span><span style=\"color: #00af00; text-decoration-color: #00af00\">115,687</span> (451.90 KB)\n",
       "</pre>\n"
      ],
      "text/plain": [
       "\u001b[1m Trainable params: \u001b[0m\u001b[38;5;34m115,687\u001b[0m (451.90 KB)\n"
      ]
     },
     "metadata": {},
     "output_type": "display_data"
    },
    {
     "data": {
      "text/html": [
       "<pre style=\"white-space:pre;overflow-x:auto;line-height:normal;font-family:Menlo,'DejaVu Sans Mono',consolas,'Courier New',monospace\"><span style=\"font-weight: bold\"> Non-trainable params: </span><span style=\"color: #00af00; text-decoration-color: #00af00\">288</span> (1.12 KB)\n",
       "</pre>\n"
      ],
      "text/plain": [
       "\u001b[1m Non-trainable params: \u001b[0m\u001b[38;5;34m288\u001b[0m (1.12 KB)\n"
      ]
     },
     "metadata": {},
     "output_type": "display_data"
    }
   ],
   "source": [
    "def model2():\n",
    "    input_layer = layers.Input(text_train.shape[1:])\n",
    "    # Simplified three-step process - Dense, Dropout, Normalize\n",
    "    x = layers.Dense(16, activation=LeakyReLU(negative_slope = 0.1), kernel_regularizer=l2(0.01))(input_layer)\n",
    "    x = layers.Dropout(0.2)(x)\n",
    "    x = layers.BatchNormalization()(x)\n",
    "    x = layers.Dense(32, activation=LeakyReLU(negative_slope = 0.1), kernel_regularizer=l2(0.01))(x)\n",
    "    x = layers.Dropout(0.2)(x)\n",
    "    x = layers.BatchNormalization()(x)\n",
    "    x = layers.Dense(32, activation=LeakyReLU(negative_slope = 0.1), kernel_regularizer=l2(0.01))(x)\n",
    "    x = layers.Dropout(0.2)(x)\n",
    "    x = layers.BatchNormalization()(x)\n",
    "    x = layers.Dense(64, activation=LeakyReLU(negative_slope = 0.1), kernel_regularizer=l2(0.01))(x)\n",
    "    x = layers.Dropout(0.2)(x)\n",
    "    x = layers.BatchNormalization()(x)\n",
    "    x = layers.Flatten()(x)\n",
    "    output_layer = layers.Dense(7, activation=\"softmax\")(x)\n",
    "    model = models.Model(input_layer, output_layer)\n",
    "    return model\n",
    "\n",
    "model2 = model2()\n",
    "model2.summary()"
   ]
  },
  {
   "cell_type": "code",
   "execution_count": 33,
   "id": "c5164c07",
   "metadata": {},
   "outputs": [],
   "source": [
    "opt2 = optimizers.Adam(learning_rate=0.001, beta_1 = 0.9)"
   ]
  },
  {
   "cell_type": "code",
   "execution_count": 34,
   "id": "2b83da9e",
   "metadata": {},
   "outputs": [],
   "source": [
    "class CustCallback2(Callback):\n",
    "    def on_epoch_end(self, epoch, logs=None):\n",
    "        if (int(epoch) % 10) == 0:\n",
    "            accuracy = logs.get('accuracy')\n",
    "            loss = logs.get('loss')\n",
    "            print(f\"Epoch {epoch}: Accuracy: {accuracy:.4f}, Loss: {loss:.4f}\")\n",
    "        else:\n",
    "            pass"
   ]
  },
  {
   "cell_type": "code",
   "execution_count": 35,
   "id": "8b7dc594",
   "metadata": {},
   "outputs": [],
   "source": [
    "model2.compile(optimizer = opt2, loss=my_loss, metrics=my_metrics)"
   ]
  },
  {
   "cell_type": "code",
   "execution_count": 36,
   "id": "39f958e9",
   "metadata": {
    "slideshow": {
     "slide_type": "slide"
    }
   },
   "outputs": [
    {
     "name": "stdout",
     "output_type": "stream",
     "text": [
      "Epoch 0: Accuracy: 0.1280, Loss: 1.3807\n",
      "Epoch 10: Accuracy: 0.6324, Loss: 0.2317\n",
      "Epoch 20: Accuracy: 0.7189, Loss: 0.1821\n",
      "Epoch 30: Accuracy: 0.7440, Loss: 0.1785\n",
      "Epoch 40: Accuracy: 0.7630, Loss: 0.1807\n",
      "Epoch 50: Accuracy: 0.7545, Loss: 0.1782\n",
      "Epoch 60: Accuracy: 0.7718, Loss: 0.1832\n",
      "Epoch 70: Accuracy: 0.7551, Loss: 0.1795\n",
      "Epoch 80: Accuracy: 0.7653, Loss: 0.1808\n",
      "Epoch 90: Accuracy: 0.7532, Loss: 0.1818\n",
      "85.00296974182129\n"
     ]
    }
   ],
   "source": [
    "start = time.time()\n",
    "model2.fit(text_train, emot_train, batch_size=32, epochs=100, shuffle=True, callbacks=[CustCallback2()], verbose = 0)\n",
    "end = time.time()\n",
    "print(end-start)"
   ]
  },
  {
   "cell_type": "markdown",
   "id": "f78c7ce6",
   "metadata": {},
   "source": [
    "Typically, the Text Classifier does better than the Multilayer Perceptron in terms of predictive power (roughly 3 to 5 percent more accuracy). Relative to the last model, it has much more nuanced predictions - doing better at where the MLP was weak but worse where it was strong.\n",
    "\n",
    "Comparing the images and text as means of communicating emotion, images are innately better at conveying emotions like surprise than text, especially since we are using short comments with little to no context. Similar differences between the two mediums may explain the variation between the models' performances in certain areas."
   ]
  },
  {
   "cell_type": "code",
   "execution_count": 37,
   "id": "9ad06e03",
   "metadata": {},
   "outputs": [
    {
     "name": "stdout",
     "output_type": "stream",
     "text": [
      "\u001b[1m24/24\u001b[0m \u001b[32m━━━━━━━━━━━━━━━━━━━━\u001b[0m\u001b[37m\u001b[0m \u001b[1m1s\u001b[0m 4ms/step - accuracy: 0.4120 - f1_score: 0.4091 - loss: 0.3866  \n"
     ]
    }
   ],
   "source": [
    "model2 = load_model('models/tc_09082024.h5', custom_objects={'LeakyReLU': LeakyReLU})\n",
    "results2 = model2.evaluate(text_test, emot_test)"
   ]
  },
  {
   "cell_type": "code",
   "execution_count": 38,
   "id": "7d0066ce",
   "metadata": {
    "slideshow": {
     "slide_type": "skip"
    }
   },
   "outputs": [
    {
     "name": "stdout",
     "output_type": "stream",
     "text": [
      "\u001b[1m24/24\u001b[0m \u001b[32m━━━━━━━━━━━━━━━━━━━━\u001b[0m\u001b[37m\u001b[0m \u001b[1m0s\u001b[0m 13ms/step\n"
     ]
    }
   ],
   "source": [
    "preds2 = model2.predict(text_test)\n",
    "preds_single2 = CLASSES[np.argmax(preds2, axis=-1)]\n",
    "actual_single2 = CLASSES[np.argmax(emot_test, axis=-1)]"
   ]
  },
  {
   "cell_type": "code",
   "execution_count": 39,
   "id": "5f9d76dd",
   "metadata": {
    "slideshow": {
     "slide_type": "fragment"
    }
   },
   "outputs": [
    {
     "name": "stdout",
     "output_type": "stream",
     "text": [
      "[0.01154146 0.00724249 0.00377703 0.40536168 0.0164574  0.14513744\n",
      " 0.41048247] \n",
      " surprise \n",
      " sadness\n"
     ]
    }
   ],
   "source": [
    "print(preds2[0], \"\\n\", preds_single2[0], \"\\n\", actual_single2[0])"
   ]
  },
  {
   "cell_type": "code",
   "execution_count": 40,
   "id": "b547dd8b",
   "metadata": {
    "slideshow": {
     "slide_type": "skip"
    }
   },
   "outputs": [
    {
     "name": "stdout",
     "output_type": "stream",
     "text": [
      "{'anger': 33, 'disgust': 51, 'fear': 66, 'happiness': 58, 'neutral': 22, 'sadness': 46, 'surprise': 34}\n"
     ]
    }
   ],
   "source": [
    "correctpreds2 = []\n",
    "for i in range(0, len(preds2)):\n",
    "    if preds_single2[i] == actual_single2[i]:\n",
    "        correctpreds2.append(preds_single2[i])\n",
    "    else:\n",
    "        pass\n",
    "value_counts2 = dict(Counter(correctpreds2))\n",
    "value_counts2 = {x: value_counts2[x] for x in desired_order}\n",
    "print(value_counts2)"
   ]
  },
  {
   "cell_type": "code",
   "execution_count": 41,
   "id": "dda0f69d",
   "metadata": {
    "scrolled": true,
    "slideshow": {
     "slide_type": "skip"
    }
   },
   "outputs": [
    {
     "data": {
      "image/png": "[encoded data removed]",
      "text/plain": [
       "<Figure size 643.861x500 with 1 Axes>"
      ]
     },
     "metadata": {},
     "output_type": "display_data"
    }
   ],
   "source": [
    "value_counts2df = pd.DataFrame({'correct_predictions':correctpreds2})\n",
    "value_counts2df.sort_values(['correct_predictions'], inplace=True)\n",
    "plot2 = sns.displot(data = value_counts2df,\n",
    "                x = 'correct_predictions',\n",
    "                kind = 'hist',\n",
    "                hue = 'correct_predictions',\n",
    "                palette = custom_palette\n",
    "                )\n",
    "plt.xlabel('Correct Predictions per Emotion')\n",
    "plt.xticks(rotation=30)\n",
    "plt.title('Text Prediction Accuracy')\n",
    "plt.ylim(0, 100)\n",
    "plt.show()"
   ]
  },
  {
   "cell_type": "markdown",
   "id": "e46823a9",
   "metadata": {
    "slideshow": {
     "slide_type": "slide"
    }
   },
   "source": [
    "## The Soft Voting Ensemble\n",
    "\n",
    "Now that we have two established models for predicting emotion, we have to combine their outputs in a soft voting ensemble.\n",
    "\n",
    "The soft voting ensemble does something very simple - it takes the raw output from the MLP and the raw output from the text classifier for a given image/text combination, weighs each by their respective models' accuracies, and then adds them together. The largest value within the resulting matrix is the combined final prediction."
   ]
  },
  {
   "cell_type": "code",
   "execution_count": 42,
   "id": "61722d91",
   "metadata": {
    "slideshow": {
     "slide_type": "fragment"
    }
   },
   "outputs": [],
   "source": [
    "# I take the output of the perceptron and the classifier, weigh them by their accuracies, and add them.\n",
    "# The resulting matrix's highest valued class is selected as the final prediction.\n",
    "def voting_ensemble_soft(imgpred, textpred):\n",
    "    avg = ((imgpred * results[1]) + (textpred * results2[1]))\n",
    "    final_prediction = CLASSES[np.argmax(avg)]\n",
    "    return final_prediction"
   ]
  },
  {
   "cell_type": "markdown",
   "id": "d63891cd",
   "metadata": {},
   "source": [
    "Using the soft voting ensemble for all image-comment pairs, we can create combined final predictions for all of the data. The accuracy of our voting ensemble, or the number of correct combined predictions divided by the total number of predictions is around 48 - 52% on average, a sizable eight to fifteen percent increase from either individual model.\n",
    "\n",
    "Though the models' combined strengths make up for their weaknesses, the fact remains that the image and text data used by both come from unrelated sources. If both the image and text data came from the same source, they would have be united in expressing a single emotion, which would reflect in the training. I believe that if this were the case, the model would likely perform much better. "
   ]
  },
  {
   "cell_type": "code",
   "execution_count": 43,
   "id": "20e04c08",
   "metadata": {
    "slideshow": {
     "slide_type": "fragment"
    }
   },
   "outputs": [
    {
     "data": {
      "text/plain": [
       "0.5117493472584856"
      ]
     },
     "execution_count": 43,
     "metadata": {},
     "output_type": "execute_result"
    }
   ],
   "source": [
    "# Each prediction from the model is put into the voting ensemble. If the resulting combined prediction\n",
    "# matches the actual emotion for that instance, it is treated as correct. The accuracy of the ensemble is\n",
    "# the number of correct predictions divided by the number of all predictions.\n",
    "compreds = []\n",
    "correctcompreds = []\n",
    "for i in range (0, len(preds)):\n",
    "    if voting_ensemble_soft(preds[i], preds2[i]) == actual_single[i]:\n",
    "        compreds.append(voting_ensemble_soft(preds[i], preds2[i]))\n",
    "        correctcompreds.append(voting_ensemble_soft(preds[i], preds2[i]))\n",
    "    else:\n",
    "        compreds.append(voting_ensemble_soft(preds[i], preds2[i]))\n",
    "evaluate_voting_accuracy = len(correctcompreds)/len(compreds)\n",
    "evaluate_voting_accuracy"
   ]
  },
  {
   "cell_type": "code",
   "execution_count": 44,
   "id": "2939e4ef",
   "metadata": {
    "slideshow": {
     "slide_type": "skip"
    }
   },
   "outputs": [
    {
     "data": {
      "text/html": [
       "<div>\n",
       "<style scoped>\n",
       "    .dataframe tbody tr th:only-of-type {\n",
       "        vertical-align: middle;\n",
       "    }\n",
       "\n",
       "    .dataframe tbody tr th {\n",
       "        vertical-align: top;\n",
       "    }\n",
       "\n",
       "    .dataframe thead th {\n",
       "        text-align: right;\n",
       "    }\n",
       "</style>\n",
       "<table border=\"1\" class=\"dataframe\">\n",
       "  <thead>\n",
       "    <tr style=\"text-align: right;\">\n",
       "      <th></th>\n",
       "      <th>imgpreds</th>\n",
       "      <th>txtpreds</th>\n",
       "      <th>compreds</th>\n",
       "      <th>actual</th>\n",
       "    </tr>\n",
       "  </thead>\n",
       "  <tbody>\n",
       "    <tr>\n",
       "      <th>0</th>\n",
       "      <td>fear</td>\n",
       "      <td>surprise</td>\n",
       "      <td>happiness</td>\n",
       "      <td>sadness</td>\n",
       "    </tr>\n",
       "    <tr>\n",
       "      <th>1</th>\n",
       "      <td>happiness</td>\n",
       "      <td>happiness</td>\n",
       "      <td>happiness</td>\n",
       "      <td>happiness</td>\n",
       "    </tr>\n",
       "    <tr>\n",
       "      <th>2</th>\n",
       "      <td>surprise</td>\n",
       "      <td>neutral</td>\n",
       "      <td>neutral</td>\n",
       "      <td>disgust</td>\n",
       "    </tr>\n",
       "    <tr>\n",
       "      <th>3</th>\n",
       "      <td>happiness</td>\n",
       "      <td>happiness</td>\n",
       "      <td>happiness</td>\n",
       "      <td>surprise</td>\n",
       "    </tr>\n",
       "    <tr>\n",
       "      <th>4</th>\n",
       "      <td>fear</td>\n",
       "      <td>fear</td>\n",
       "      <td>fear</td>\n",
       "      <td>fear</td>\n",
       "    </tr>\n",
       "    <tr>\n",
       "      <th>5</th>\n",
       "      <td>sadness</td>\n",
       "      <td>fear</td>\n",
       "      <td>happiness</td>\n",
       "      <td>fear</td>\n",
       "    </tr>\n",
       "    <tr>\n",
       "      <th>6</th>\n",
       "      <td>neutral</td>\n",
       "      <td>happiness</td>\n",
       "      <td>happiness</td>\n",
       "      <td>happiness</td>\n",
       "    </tr>\n",
       "    <tr>\n",
       "      <th>7</th>\n",
       "      <td>sadness</td>\n",
       "      <td>anger</td>\n",
       "      <td>anger</td>\n",
       "      <td>happiness</td>\n",
       "    </tr>\n",
       "    <tr>\n",
       "      <th>8</th>\n",
       "      <td>disgust</td>\n",
       "      <td>happiness</td>\n",
       "      <td>happiness</td>\n",
       "      <td>neutral</td>\n",
       "    </tr>\n",
       "    <tr>\n",
       "      <th>9</th>\n",
       "      <td>neutral</td>\n",
       "      <td>sadness</td>\n",
       "      <td>neutral</td>\n",
       "      <td>neutral</td>\n",
       "    </tr>\n",
       "  </tbody>\n",
       "</table>\n",
       "</div>"
      ],
      "text/plain": [
       "    imgpreds   txtpreds   compreds     actual\n",
       "0       fear   surprise  happiness    sadness\n",
       "1  happiness  happiness  happiness  happiness\n",
       "2   surprise    neutral    neutral    disgust\n",
       "3  happiness  happiness  happiness   surprise\n",
       "4       fear       fear       fear       fear\n",
       "5    sadness       fear  happiness       fear\n",
       "6    neutral  happiness  happiness  happiness\n",
       "7    sadness      anger      anger  happiness\n",
       "8    disgust  happiness  happiness    neutral\n",
       "9    neutral    sadness    neutral    neutral"
      ]
     },
     "execution_count": 44,
     "metadata": {},
     "output_type": "execute_result"
    }
   ],
   "source": [
    "# A brief comparison of the different models' predictions compared the actual emotion.\n",
    "val = pd.DataFrame({'imgpreds':preds_single, 'txtpreds':preds_single2, 'compreds':compreds, 'actual':actual_single})\n",
    "val.head(10)"
   ]
  },
  {
   "cell_type": "code",
   "execution_count": 45,
   "id": "3fec0970",
   "metadata": {
    "slideshow": {
     "slide_type": "skip"
    }
   },
   "outputs": [
    {
     "name": "stdout",
     "output_type": "stream",
     "text": [
      "{'anger': 33, 'disgust': 74, 'fear': 66, 'happiness': 73, 'neutral': 32, 'sadness': 50, 'surprise': 64}\n"
     ]
    }
   ],
   "source": [
    "com_value_counts = dict(Counter(correctcompreds))\n",
    "com_value_counts = {x: com_value_counts[x] for x in desired_order}\n",
    "print(com_value_counts)"
   ]
  },
  {
   "cell_type": "code",
   "execution_count": 46,
   "id": "98f80fd2",
   "metadata": {
    "slideshow": {
     "slide_type": "skip"
    }
   },
   "outputs": [
    {
     "data": {
      "image/png": "[encoded data removed]",
      "text/plain": [
       "<Figure size 643.861x500 with 1 Axes>"
      ]
     },
     "metadata": {},
     "output_type": "display_data"
    }
   ],
   "source": [
    "com_value_counts2df = pd.DataFrame({'correct_predictions':correctcompreds})\n",
    "com_value_counts2df.sort_values(['correct_predictions'], inplace=True)\n",
    "plot3 = sns.displot(data = com_value_counts2df,\n",
    "                x = 'correct_predictions',\n",
    "                kind = 'hist',\n",
    "                hue = 'correct_predictions',\n",
    "                palette = custom_palette\n",
    "                )\n",
    "plt.xlabel('Correct Predictions per Emotion')\n",
    "plt.xticks(rotation=30)\n",
    "plt.title('Voting Ensemble Prediction Accuracy')\n",
    "plt.ylim(0, 100)\n",
    "plt.show()"
   ]
  }
 ],
 "metadata": {
  "celltoolbar": "Slideshow",
  "kernelspec": {
   "display_name": "mykernel",
   "language": "python",
   "name": "mykernel"
  },
  "language_info": {
   "codemirror_mode": {
    "name": "ipython",
    "version": 3
   },
   "file_extension": ".py",
   "mimetype": "text/x-python",
   "name": "python",
   "nbconvert_exporter": "python",
   "pygments_lexer": "ipython3",
   "version": "3.9.5"
  }
 },
 "nbformat": 4,
 "nbformat_minor": 5
}
